{
 "cells": [
  {
   "cell_type": "code",
   "execution_count": 2,
   "metadata": {
    "collapsed": true
   },
   "outputs": [],
   "source": [
    "from sklearn.preprocessing import LabelEncoder\n",
    "from hog import preprocessing\n",
    "from begin import hog_feat\n",
    "import numpy as np\n",
    "from sklearn import svm\n",
    "from sklearn.model_selection import train_test_split\n",
    "from sklearn import metrics  #calculate accuracy"
   ]
  },
  {
   "cell_type": "code",
   "execution_count": 6,
   "outputs": [],
   "source": [
    "path = \"D:\\dataset\"\n",
    "data, label = preprocessing(path)"
   ],
   "metadata": {
    "collapsed": false
   }
  },
  {
   "cell_type": "code",
   "execution_count": 3,
   "outputs": [],
   "source": [
    "def _transform_data(data, labels):\n",
    "    # Tạo input array X\n",
    "    X = np.array(data)\n",
    "\n",
    "    # Tạo output array y\n",
    "    lbe = LabelEncoder()\n",
    "    lbe.fit(labels)\n",
    "    y = lbe.transform(labels)\n",
    "\n",
    "    #y_ind = np.unique(y)\n",
    "    #y_dict = dict(zip(y_ind, le.classes_))\n",
    "\n",
    "    return X, y, #y_dict, le"
   ],
   "metadata": {
    "collapsed": false
   }
  },
  {
   "cell_type": "code",
   "execution_count": 4,
   "outputs": [],
   "source": [
    "directory = \"D:/dataset/anger/image0000356.jpg\"\n",
    "value = hog_feat(directory)"
   ],
   "metadata": {
    "collapsed": false
   }
  },
  {
   "cell_type": "code",
   "execution_count": null,
   "outputs": [],
   "source": [
    "X , y = _transform_data(data, label)\n",
    "model = svm.SVC(kernel='poly', degree = 3, gamma=1, C = 100)\n",
    "X_train, X_test, y_train, y_test = train_test_split(X, y, test_size = 0.10)\n",
    "model.fit(X_train,y_train)"
   ],
   "metadata": {
    "collapsed": false,
    "pycharm": {
     "is_executing": true
    }
   }
  },
  {
   "cell_type": "code",
   "execution_count": 14,
   "outputs": [
    {
     "ename": "NameError",
     "evalue": "name 'model' is not defined",
     "output_type": "error",
     "traceback": [
      "\u001B[1;31m---------------------------------------------------------------------------\u001B[0m",
      "\u001B[1;31mNameError\u001B[0m                                 Traceback (most recent call last)",
      "Cell \u001B[1;32mIn[14], line 1\u001B[0m\n\u001B[1;32m----> 1\u001B[0m prediction \u001B[38;5;241m=\u001B[39m \u001B[43mmodel\u001B[49m\u001B[38;5;241m.\u001B[39mpredict(X_test)\n\u001B[0;32m      2\u001B[0m predictionExample \u001B[38;5;241m=\u001B[39m model\u001B[38;5;241m.\u001B[39mpredict(value)\n\u001B[0;32m      3\u001B[0m \u001B[38;5;28mprint\u001B[39m(\u001B[38;5;124m\"\u001B[39m\u001B[38;5;124mAcc: \u001B[39m\u001B[38;5;124m\"\u001B[39m, metrics\u001B[38;5;241m.\u001B[39maccuracy_score(y_test, prediction)\u001B[38;5;241m*\u001B[39m\u001B[38;5;241m100\u001B[39m)\n",
      "\u001B[1;31mNameError\u001B[0m: name 'model' is not defined"
     ]
    }
   ],
   "source": [
    "prediction = model.predict(X_test)\n",
    "predictionExample = model.predict(value)\n",
    "print(\"Acc: \", metrics.accuracy_score(y_test, prediction)*100)"
   ],
   "metadata": {
    "collapsed": false
   }
  },
  {
   "cell_type": "code",
   "execution_count": null,
   "outputs": [],
   "source": [],
   "metadata": {
    "collapsed": false
   }
  }
 ],
 "metadata": {
  "kernelspec": {
   "display_name": "Python 3",
   "language": "python",
   "name": "python3"
  },
  "language_info": {
   "codemirror_mode": {
    "name": "ipython",
    "version": 2
   },
   "file_extension": ".py",
   "mimetype": "text/x-python",
   "name": "python",
   "nbconvert_exporter": "python",
   "pygments_lexer": "ipython2",
   "version": "2.7.6"
  }
 },
 "nbformat": 4,
 "nbformat_minor": 0
}
